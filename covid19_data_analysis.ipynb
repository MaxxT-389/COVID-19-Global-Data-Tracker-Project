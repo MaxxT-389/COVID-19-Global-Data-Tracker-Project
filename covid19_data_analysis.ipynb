{
 "cells": [
  {
   "cell_type": "markdown",
   "id": "69070358",
   "metadata": {},
   "source": [
    "# COVID-19 Global Data Analysis and Reporting\n",
    "\n",
    "This notebook analyzes global COVID-19 trends focusing on cases, deaths, and vaccination progress for selected countries. It loads the Our World in Data COVID-19 dataset, cleans the data, explores key metrics, and visualizes trends with insightful commentary."
   ]
  },
  {
   "cell_type": "markdown",
   "id": "c9ff9cca",
   "metadata": {},
   "source": [
    "## 1. Data Loading & Exploration"
   ]
  },
  {
   "cell_type": "code",
   "execution_count": 1,
   "id": "bed648f7",
   "metadata": {},
   "outputs": [
    {
     "ename": "ModuleNotFoundError",
     "evalue": "No module named 'matplotlib'",
     "output_type": "error",
     "traceback": [
      "\u001b[31m---------------------------------------------------------------------------\u001b[39m",
      "\u001b[31mModuleNotFoundError\u001b[39m                       Traceback (most recent call last)",
      "\u001b[36mCell\u001b[39m\u001b[36m \u001b[39m\u001b[32mIn[1]\u001b[39m\u001b[32m, line 4\u001b[39m\n\u001b[32m      2\u001b[39m \u001b[38;5;28;01mimport\u001b[39;00m\u001b[38;5;250m \u001b[39m\u001b[34;01mpandas\u001b[39;00m\u001b[38;5;250m \u001b[39m\u001b[38;5;28;01mas\u001b[39;00m\u001b[38;5;250m \u001b[39m\u001b[34;01mpd\u001b[39;00m\n\u001b[32m      3\u001b[39m \u001b[38;5;28;01mimport\u001b[39;00m\u001b[38;5;250m \u001b[39m\u001b[34;01mnumpy\u001b[39;00m\u001b[38;5;250m \u001b[39m\u001b[38;5;28;01mas\u001b[39;00m\u001b[38;5;250m \u001b[39m\u001b[34;01mnp\u001b[39;00m\n\u001b[32m----> \u001b[39m\u001b[32m4\u001b[39m \u001b[38;5;28;01mimport\u001b[39;00m\u001b[38;5;250m \u001b[39m\u001b[34;01mmatplotlib\u001b[39;00m\u001b[34;01m.\u001b[39;00m\u001b[34;01mpyplot\u001b[39;00m\u001b[38;5;250m \u001b[39m\u001b[38;5;28;01mas\u001b[39;00m\u001b[38;5;250m \u001b[39m\u001b[34;01mplt\u001b[39;00m\n\u001b[32m      5\u001b[39m \u001b[38;5;28;01mimport\u001b[39;00m\u001b[38;5;250m \u001b[39m\u001b[34;01mseaborn\u001b[39;00m\u001b[38;5;250m \u001b[39m\u001b[38;5;28;01mas\u001b[39;00m\u001b[38;5;250m \u001b[39m\u001b[34;01msns\u001b[39;00m\n\u001b[32m      7\u001b[39m \u001b[38;5;66;03m# Set visualization style\u001b[39;00m\n",
      "\u001b[31mModuleNotFoundError\u001b[39m: No module named 'matplotlib'"
     ]
    }
   ],
   "source": [
    "# Import libraries\n",
    "import pandas as pd\n",
    "import numpy as np\n",
    "import matplotlib.pyplot as plt\n",
    "import seaborn as sns\n",
    "\n",
    "# Set visualization style\n",
    "sns.set(style=\"darkgrid\")\n",
    "\n",
    "# Load dataset\n",
    "df = pd.read_csv('owid-covid-data.csv')\n",
    "\n",
    "# Preview dataset\n",
    "df.head()"
   ]
  },
  {
   "cell_type": "markdown",
   "id": "68a92374",
   "metadata": {},
   "source": [
    "### Dataset columns overview"
   ]
  },
  {
   "cell_type": "code",
   "execution_count": 2,
   "id": "4ba042d4",
   "metadata": {},
   "outputs": [
    {
     "ename": "NameError",
     "evalue": "name 'df' is not defined",
     "output_type": "error",
     "traceback": [
      "\u001b[31m---------------------------------------------------------------------------\u001b[39m",
      "\u001b[31mNameError\u001b[39m                                 Traceback (most recent call last)",
      "\u001b[36mCell\u001b[39m\u001b[36m \u001b[39m\u001b[32mIn[2]\u001b[39m\u001b[32m, line 2\u001b[39m\n\u001b[32m      1\u001b[39m \u001b[38;5;66;03m# Show columns\u001b[39;00m\n\u001b[32m----> \u001b[39m\u001b[32m2\u001b[39m \u001b[43mdf\u001b[49m.columns\n",
      "\u001b[31mNameError\u001b[39m: name 'df' is not defined"
     ]
    }
   ],
   "source": [
    "# Show columns\n",
    "df.columns"
   ]
  },
  {
   "cell_type": "markdown",
   "id": "ab03e200",
   "metadata": {},
   "source": [
    "### Check missing values in key columns"
   ]
  },
  {
   "cell_type": "code",
   "execution_count": 3,
   "id": "a6cd598e",
   "metadata": {},
   "outputs": [
    {
     "ename": "NameError",
     "evalue": "name 'df' is not defined",
     "output_type": "error",
     "traceback": [
      "\u001b[31m---------------------------------------------------------------------------\u001b[39m",
      "\u001b[31mNameError\u001b[39m                                 Traceback (most recent call last)",
      "\u001b[36mCell\u001b[39m\u001b[36m \u001b[39m\u001b[32mIn[3]\u001b[39m\u001b[32m, line 2\u001b[39m\n\u001b[32m      1\u001b[39m key_cols = [\u001b[33m'\u001b[39m\u001b[33mdate\u001b[39m\u001b[33m'\u001b[39m, \u001b[33m'\u001b[39m\u001b[33mlocation\u001b[39m\u001b[33m'\u001b[39m, \u001b[33m'\u001b[39m\u001b[33mtotal_cases\u001b[39m\u001b[33m'\u001b[39m, \u001b[33m'\u001b[39m\u001b[33mtotal_deaths\u001b[39m\u001b[33m'\u001b[39m, \u001b[33m'\u001b[39m\u001b[33mnew_cases\u001b[39m\u001b[33m'\u001b[39m, \u001b[33m'\u001b[39m\u001b[33mnew_deaths\u001b[39m\u001b[33m'\u001b[39m, \u001b[33m'\u001b[39m\u001b[33mtotal_vaccinations\u001b[39m\u001b[33m'\u001b[39m]\n\u001b[32m----> \u001b[39m\u001b[32m2\u001b[39m \u001b[43mdf\u001b[49m[key_cols].isnull().sum()\n",
      "\u001b[31mNameError\u001b[39m: name 'df' is not defined"
     ]
    }
   ],
   "source": [
    "key_cols = ['date', 'location', 'total_cases', 'total_deaths', 'new_cases', 'new_deaths', 'total_vaccinations']\n",
    "df[key_cols].isnull().sum()"
   ]
  },
  {
   "cell_type": "markdown",
   "id": "0332860e",
   "metadata": {},
   "source": [
    "## 2. Data Cleaning"
   ]
  },
  {
   "cell_type": "code",
   "execution_count": 4,
   "id": "129641f0",
   "metadata": {},
   "outputs": [
    {
     "ename": "NameError",
     "evalue": "name 'df' is not defined",
     "output_type": "error",
     "traceback": [
      "\u001b[31m---------------------------------------------------------------------------\u001b[39m",
      "\u001b[31mNameError\u001b[39m                                 Traceback (most recent call last)",
      "\u001b[36mCell\u001b[39m\u001b[36m \u001b[39m\u001b[32mIn[4]\u001b[39m\u001b[32m, line 3\u001b[39m\n\u001b[32m      1\u001b[39m \u001b[38;5;66;03m# Filter countries of interest\u001b[39;00m\n\u001b[32m      2\u001b[39m countries = [\u001b[33m'\u001b[39m\u001b[33mKenya\u001b[39m\u001b[33m'\u001b[39m, \u001b[33m'\u001b[39m\u001b[33mUnited States\u001b[39m\u001b[33m'\u001b[39m, \u001b[33m'\u001b[39m\u001b[33mIndia\u001b[39m\u001b[33m'\u001b[39m, \u001b[33m'\u001b[39m\u001b[33mBrazil\u001b[39m\u001b[33m'\u001b[39m, \u001b[33m'\u001b[39m\u001b[33mSouth Africa\u001b[39m\u001b[33m'\u001b[39m]\n\u001b[32m----> \u001b[39m\u001b[32m3\u001b[39m df_countries = \u001b[43mdf\u001b[49m[df[\u001b[33m'\u001b[39m\u001b[33mlocation\u001b[39m\u001b[33m'\u001b[39m].isin(countries)].copy()\n\u001b[32m      5\u001b[39m \u001b[38;5;66;03m# Drop rows with missing dates or critical values\u001b[39;00m\n\u001b[32m      6\u001b[39m df_countries = df_countries.dropna(subset=[\u001b[33m'\u001b[39m\u001b[33mdate\u001b[39m\u001b[33m'\u001b[39m])\n",
      "\u001b[31mNameError\u001b[39m: name 'df' is not defined"
     ]
    }
   ],
   "source": [
    "# Filter countries of interest\n",
    "countries = ['Kenya', 'United States', 'India', 'Brazil', 'South Africa']\n",
    "df_countries = df[df['location'].isin(countries)].copy()\n",
    "\n",
    "# Drop rows with missing dates or critical values\n",
    "df_countries = df_countries.dropna(subset=['date'])\n",
    "\n",
    "# Convert date to datetime\n",
    "df_countries['date'] = pd.to_datetime(df_countries['date'])\n",
    "\n",
    "# Fill missing numeric values with 0 for cumulative columns and interpolate daily new cases/deaths\n",
    "df_countries['total_cases'] = df_countries['total_cases'].fillna(method='ffill').fillna(0)\n",
    "df_countries['total_deaths'] = df_countries['total_deaths'].fillna(method='ffill').fillna(0)\n",
    "df_countries['new_cases'] = df_countries['new_cases'].interpolate().fillna(0)\n",
    "df_countries['new_deaths'] = df_countries['new_deaths'].interpolate().fillna(0)\n",
    "df_countries['total_vaccinations'] = df_countries['total_vaccinations'].fillna(method='ffill').fillna(0)"
   ]
  },
  {
   "cell_type": "markdown",
   "id": "51120273",
   "metadata": {},
   "source": [
    "## 3. Exploratory Data Analysis (EDA)"
   ]
  },
  {
   "cell_type": "markdown",
   "id": "a2ae61dc",
   "metadata": {},
   "source": [
    "### Total Cases Over Time"
   ]
  },
  {
   "cell_type": "code",
   "execution_count": 5,
   "id": "f7363e4c",
   "metadata": {},
   "outputs": [
    {
     "ename": "ModuleNotFoundError",
     "evalue": "No module named 'matplotlib'",
     "output_type": "error",
     "traceback": [
      "\u001b[31m---------------------------------------------------------------------------\u001b[39m",
      "\u001b[31mModuleNotFoundError\u001b[39m                       Traceback (most recent call last)",
      "\u001b[36mCell\u001b[39m\u001b[36m \u001b[39m\u001b[32mIn[5]\u001b[39m\u001b[32m, line 1\u001b[39m\n\u001b[32m----> \u001b[39m\u001b[32m1\u001b[39m \u001b[38;5;28;01mimport\u001b[39;00m\u001b[38;5;250m \u001b[39m\u001b[34;01mmatplotlib\u001b[39;00m\u001b[34;01m.\u001b[39;00m\u001b[34;01mpyplot\u001b[39;00m\u001b[38;5;250m \u001b[39m\u001b[38;5;28;01mas\u001b[39;00m\u001b[38;5;250m \u001b[39m\u001b[34;01mplt\u001b[39;00m\n\u001b[32m      2\u001b[39m plt.figure(figsize=(\u001b[32m12\u001b[39m,\u001b[32m6\u001b[39m))\n\u001b[32m      3\u001b[39m \u001b[38;5;28;01mfor\u001b[39;00m country \u001b[38;5;129;01min\u001b[39;00m countries:\n",
      "\u001b[31mModuleNotFoundError\u001b[39m: No module named 'matplotlib'"
     ]
    }
   ],
   "source": [
    "import matplotlib.pyplot as plt\n",
    "plt.figure(figsize=(12,6))\n",
    "for country in countries:\n",
    "    subset = df_countries[df_countries['location'] == country]\n",
    "    plt.plot(subset['date'], subset['total_cases'], label=country)\n",
    "plt.title('Total COVID-19 Cases Over Time')\n",
    "plt.xlabel('Date')\n",
    "plt.ylabel('Total Cases')\n",
    "plt.legend()\n",
    "plt.tight_layout()\n",
    "plt.show()"
   ]
  },
  {
   "cell_type": "markdown",
   "id": "cdc28a67",
   "metadata": {},
   "source": [
    "### Total Deaths Over Time"
   ]
  },
  {
   "cell_type": "code",
   "execution_count": 6,
   "id": "d2b68c7a",
   "metadata": {},
   "outputs": [
    {
     "ename": "NameError",
     "evalue": "name 'plt' is not defined",
     "output_type": "error",
     "traceback": [
      "\u001b[31m---------------------------------------------------------------------------\u001b[39m",
      "\u001b[31mNameError\u001b[39m                                 Traceback (most recent call last)",
      "\u001b[36mCell\u001b[39m\u001b[36m \u001b[39m\u001b[32mIn[6]\u001b[39m\u001b[32m, line 1\u001b[39m\n\u001b[32m----> \u001b[39m\u001b[32m1\u001b[39m \u001b[43mplt\u001b[49m.figure(figsize=(\u001b[32m12\u001b[39m,\u001b[32m6\u001b[39m))\n\u001b[32m      2\u001b[39m \u001b[38;5;28;01mfor\u001b[39;00m country \u001b[38;5;129;01min\u001b[39;00m countries:\n\u001b[32m      3\u001b[39m     subset = df_countries[df_countries[\u001b[33m'\u001b[39m\u001b[33mlocation\u001b[39m\u001b[33m'\u001b[39m] == country]\n",
      "\u001b[31mNameError\u001b[39m: name 'plt' is not defined"
     ]
    }
   ],
   "source": [
    "plt.figure(figsize=(12,6))\n",
    "for country in countries:\n",
    "    subset = df_countries[df_countries['location'] == country]\n",
    "    plt.plot(subset['date'], subset['total_deaths'], label=country)\n",
    "plt.title('Total COVID-19 Deaths Over Time')\n",
    "plt.xlabel('Date')\n",
    "plt.ylabel('Total Deaths')\n",
    "plt.legend()\n",
    "plt.tight_layout()\n",
    "plt.show()"
   ]
  },
  {
   "cell_type": "markdown",
   "id": "110cc1ac",
   "metadata": {},
   "source": [
    "### New Cases Comparison"
   ]
  },
  {
   "cell_type": "code",
   "execution_count": 7,
   "id": "a6870643",
   "metadata": {},
   "outputs": [
    {
     "ename": "NameError",
     "evalue": "name 'plt' is not defined",
     "output_type": "error",
     "traceback": [
      "\u001b[31m---------------------------------------------------------------------------\u001b[39m",
      "\u001b[31mNameError\u001b[39m                                 Traceback (most recent call last)",
      "\u001b[36mCell\u001b[39m\u001b[36m \u001b[39m\u001b[32mIn[7]\u001b[39m\u001b[32m, line 1\u001b[39m\n\u001b[32m----> \u001b[39m\u001b[32m1\u001b[39m \u001b[43mplt\u001b[49m.figure(figsize=(\u001b[32m12\u001b[39m,\u001b[32m6\u001b[39m))\n\u001b[32m      2\u001b[39m \u001b[38;5;28;01mfor\u001b[39;00m country \u001b[38;5;129;01min\u001b[39;00m countries:\n\u001b[32m      3\u001b[39m     subset = df_countries[df_countries[\u001b[33m'\u001b[39m\u001b[33mlocation\u001b[39m\u001b[33m'\u001b[39m] == country]\n",
      "\u001b[31mNameError\u001b[39m: name 'plt' is not defined"
     ]
    }
   ],
   "source": [
    "plt.figure(figsize=(12,6))\n",
    "for country in countries:\n",
    "    subset = df_countries[df_countries['location'] == country]\n",
    "    plt.plot(subset['date'], subset['new_cases'], label=country)\n",
    "plt.title('Daily New COVID-19 Cases')\n",
    "plt.xlabel('Date')\n",
    "plt.ylabel('New Cases')\n",
    "plt.legend()\n",
    "plt.tight_layout()\n",
    "plt.show()"
   ]
  },
  {
   "cell_type": "markdown",
   "id": "5f2dc546",
   "metadata": {},
   "source": [
    "### Death Rate (Total Deaths / Total Cases)"
   ]
  },
  {
   "cell_type": "code",
   "execution_count": 8,
   "id": "d5718979",
   "metadata": {},
   "outputs": [
    {
     "ename": "NameError",
     "evalue": "name 'df_countries' is not defined",
     "output_type": "error",
     "traceback": [
      "\u001b[31m---------------------------------------------------------------------------\u001b[39m",
      "\u001b[31mNameError\u001b[39m                                 Traceback (most recent call last)",
      "\u001b[36mCell\u001b[39m\u001b[36m \u001b[39m\u001b[32mIn[8]\u001b[39m\u001b[32m, line 2\u001b[39m\n\u001b[32m      1\u001b[39m \u001b[38;5;66;03m# Avoid division by zero\u001b[39;00m\n\u001b[32m----> \u001b[39m\u001b[32m2\u001b[39m df_countries[\u001b[33m'\u001b[39m\u001b[33mdeath_rate\u001b[39m\u001b[33m'\u001b[39m] = \u001b[43mdf_countries\u001b[49m.apply(\u001b[38;5;28;01mlambda\u001b[39;00m row: (row[\u001b[33m'\u001b[39m\u001b[33mtotal_deaths\u001b[39m\u001b[33m'\u001b[39m] / row[\u001b[33m'\u001b[39m\u001b[33mtotal_cases\u001b[39m\u001b[33m'\u001b[39m]) \u001b[38;5;28;01mif\u001b[39;00m row[\u001b[33m'\u001b[39m\u001b[33mtotal_cases\u001b[39m\u001b[33m'\u001b[39m] > \u001b[32m0\u001b[39m \u001b[38;5;28;01melse\u001b[39;00m \u001b[32m0\u001b[39m, axis=\u001b[32m1\u001b[39m)\n\u001b[32m      4\u001b[39m plt.figure(figsize=(\u001b[32m12\u001b[39m,\u001b[32m6\u001b[39m))\n\u001b[32m      5\u001b[39m \u001b[38;5;28;01mfor\u001b[39;00m country \u001b[38;5;129;01min\u001b[39;00m countries:\n",
      "\u001b[31mNameError\u001b[39m: name 'df_countries' is not defined"
     ]
    }
   ],
   "source": [
    "# Avoid division by zero\n",
    "df_countries['death_rate'] = df_countries.apply(lambda row: (row['total_deaths'] / row['total_cases']) if row['total_cases'] > 0 else 0, axis=1)\n",
    "\n",
    "plt.figure(figsize=(12,6))\n",
    "for country in countries:\n",
    "    subset = df_countries[df_countries['location'] == country]\n",
    "    plt.plot(subset['date'], subset['death_rate'], label=country)\n",
    "plt.title('COVID-19 Death Rate Over Time')\n",
    "plt.xlabel('Date')\n",
    "plt.ylabel('Death Rate')\n",
    "plt.legend()\n",
    "plt.tight_layout()\n",
    "plt.show()"
   ]
  },
  {
   "cell_type": "markdown",
   "id": "ad494be5",
   "metadata": {},
   "source": [
    "## 4. Vaccination Progress"
   ]
  },
  {
   "cell_type": "markdown",
   "id": "648d0ce5",
   "metadata": {},
   "source": [
    "### Cumulative Vaccinations Over Time"
   ]
  },
  {
   "cell_type": "code",
   "execution_count": 9,
   "id": "54f39543",
   "metadata": {},
   "outputs": [
    {
     "ename": "NameError",
     "evalue": "name 'plt' is not defined",
     "output_type": "error",
     "traceback": [
      "\u001b[31m---------------------------------------------------------------------------\u001b[39m",
      "\u001b[31mNameError\u001b[39m                                 Traceback (most recent call last)",
      "\u001b[36mCell\u001b[39m\u001b[36m \u001b[39m\u001b[32mIn[9]\u001b[39m\u001b[32m, line 1\u001b[39m\n\u001b[32m----> \u001b[39m\u001b[32m1\u001b[39m \u001b[43mplt\u001b[49m.figure(figsize=(\u001b[32m12\u001b[39m,\u001b[32m6\u001b[39m))\n\u001b[32m      2\u001b[39m \u001b[38;5;28;01mfor\u001b[39;00m country \u001b[38;5;129;01min\u001b[39;00m countries:\n\u001b[32m      3\u001b[39m     subset = df_countries[df_countries[\u001b[33m'\u001b[39m\u001b[33mlocation\u001b[39m\u001b[33m'\u001b[39m] == country]\n",
      "\u001b[31mNameError\u001b[39m: name 'plt' is not defined"
     ]
    }
   ],
   "source": [
    "plt.figure(figsize=(12,6))\n",
    "for country in countries:\n",
    "    subset = df_countries[df_countries['location'] == country]\n",
    "    plt.plot(subset['date'], subset['total_vaccinations'], label=country)\n",
    "plt.title('Total COVID-19 Vaccinations Over Time')\n",
    "plt.xlabel('Date')\n",
    "plt.ylabel('Total Vaccinations')\n",
    "plt.legend()\n",
    "plt.tight_layout()\n",
    "plt.show()"
   ]
  },
  {
   "cell_type": "markdown",
   "id": "96fe1927",
   "metadata": {},
   "source": [
    "## 5. Key Insights\n",
    "\n",
    "### Insight 1\n",
    "- The United States shows high total COVID-19 cases and deaths, but also a strong vaccination rollout.\n",
    "\n",
    "### Insight 2\n",
    "- India and Brazil experienced sharp increases in daily new cases during waves, impacting global trends.\n",
    "\n",
    "### Insight 3\n",
    "- Kenya and South Africa have lower total cases and deaths but show steady vaccination progress.\n",
    "\n",
    "### Insight 4\n",
    "- Death rate varies significantly across countries, with some countries showing decreases over time, indicating improved treatment.\n",
    "\n",
    "### Insight 5\n",
    "- Vaccination rollouts correlate with slowing growth in new cases in some countries, highlighting effectiveness."
   ]
  },
  {
   "cell_type": "markdown",
   "id": "1f993185",
   "metadata": {},
   "source": [
    "## Conclusion\n",
    "\n",
    "This analysis highlights global disparities in COVID-19 impact and vaccination progress. Continued data monitoring and vaccination efforts remain critical in controlling the pandemic. This notebook serves as a foundation for further analysis and reporting."
   ]
  }
 ],
 "metadata": {
  "kernelspec": {
   "display_name": "Python 3 (ipykernel)",
   "language": "python",
   "name": "python3"
  },
  "language_info": {
   "codemirror_mode": {
    "name": "ipython",
    "version": 3
   },
   "file_extension": ".py",
   "mimetype": "text/x-python",
   "name": "python",
   "nbconvert_exporter": "python",
   "pygments_lexer": "ipython3",
   "version": "3.11.9"
  }
 },
 "nbformat": 4,
 "nbformat_minor": 5
}
